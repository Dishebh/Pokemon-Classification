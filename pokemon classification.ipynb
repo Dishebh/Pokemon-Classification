{
 "cells": [
  {
   "cell_type": "code",
   "execution_count": null,
   "metadata": {},
   "outputs": [],
   "source": [
    "import os\n",
    "import numpy as np\n",
    "import cv2\n",
    "import matplotlib.pyplot as plt\n",
    "import pandas as pd\n",
    "from IPython.display import FileLink, FileLinks\n"
   ]
  },
  {
   "cell_type": "code",
   "execution_count": 2,
   "metadata": {},
   "outputs": [
    {
     "data": {
      "text/plain": [
       "(304,)"
      ]
     },
     "execution_count": 2,
     "metadata": {},
     "output_type": "execute_result"
    }
   ],
   "source": [
    "df = pd.read_csv (\"train.csv\")\n",
    "pokemon_label = df [\"NameOfPokemon\"]\n",
    "pokemon_label.shape"
   ]
  },
  {
   "cell_type": "code",
   "execution_count": 3,
   "metadata": {},
   "outputs": [
    {
     "name": "stdout",
     "output_type": "stream",
     "text": [
      "(982, 814, 3)\n"
     ]
    }
   ],
   "source": [
    "img = cv2.imread (\"Images_train/296.jpg\")\n",
    "print (img.shape)"
   ]
  },
  {
   "cell_type": "code",
   "execution_count": 4,
   "metadata": {},
   "outputs": [
    {
     "data": {
      "text/plain": [
       "(304, 2)"
      ]
     },
     "execution_count": 4,
     "metadata": {},
     "output_type": "execute_result"
    }
   ],
   "source": [
    "df.shape\n"
   ]
  },
  {
   "cell_type": "code",
   "execution_count": 5,
   "metadata": {},
   "outputs": [],
   "source": [
    "data = df.values"
   ]
  },
  {
   "cell_type": "code",
   "execution_count": 6,
   "metadata": {},
   "outputs": [
    {
     "name": "stdout",
     "output_type": "stream",
     "text": [
      "296.jpg\n"
     ]
    }
   ],
   "source": [
    "m = data[0][0]\n",
    "print (m)"
   ]
  },
  {
   "cell_type": "code",
   "execution_count": 7,
   "metadata": {},
   "outputs": [
    {
     "name": "stderr",
     "output_type": "stream",
     "text": [
      "Using TensorFlow backend.\n"
     ]
    }
   ],
   "source": [
    "import os\n",
    "from pathlib import Path\n",
    "from keras.preprocessing import image\n"
   ]
  },
  {
   "cell_type": "code",
   "execution_count": 8,
   "metadata": {},
   "outputs": [
    {
     "name": "stderr",
     "output_type": "stream",
     "text": [
      "/home/dishebh/anaconda3/lib/python3.7/site-packages/PIL/Image.py:968: UserWarning: Palette images with Transparency   expressed in bytes should be converted to RGBA images\n",
      "  ' expressed in bytes should be converted ' +\n"
     ]
    }
   ],
   "source": [
    "p = Path (\"Images_train\")\n",
    "image_data = []\n",
    "labels = []\n",
    "\n",
    "for img_path in p.glob (\"*.jpg\"):\n",
    "    img = image.load_img (img_path, target_size = (100, 100))\n",
    "    img_array = image.img_to_array (img)\n",
    "    image_data.append (img_array)\n",
    "    temp = str (img_path).split (\"/\") [-1]\n",
    "    \n",
    "    #print (df[0][0])\n",
    "    #labels.append (label)\n",
    "    \n",
    "image_data = np.array (image_data)\n"
   ]
  },
  {
   "cell_type": "code",
   "execution_count": 9,
   "metadata": {},
   "outputs": [
    {
     "data": {
      "text/plain": [
       "(304, 100, 100, 3)"
      ]
     },
     "execution_count": 9,
     "metadata": {},
     "output_type": "execute_result"
    }
   ],
   "source": [
    "image_data.shape"
   ]
  },
  {
   "cell_type": "code",
   "execution_count": 10,
   "metadata": {},
   "outputs": [
    {
     "data": {
      "image/png": "[encoded data removed]",
      "text/plain": [
       "<Figure size 432x288 with 1 Axes>"
      ]
     },
     "metadata": {
      "needs_background": "light"
     },
     "output_type": "display_data"
    }
   ],
   "source": [
    "plt.imshow (image_data[6]/255.0)\n",
    "plt.show ()"
   ]
  },
  {
   "cell_type": "code",
   "execution_count": 12,
   "metadata": {},
   "outputs": [
    {
     "data": {
      "text/plain": [
       "(1, 30000)"
      ]
     },
     "execution_count": 12,
     "metadata": {},
     "output_type": "execute_result"
    }
   ],
   "source": [
    "sample = (image_data [0]/255.0).reshape (1, 100*100*3)\n",
    "sample.shape"
   ]
  },
  {
   "cell_type": "code",
   "execution_count": 13,
   "metadata": {
    "scrolled": true
   },
   "outputs": [
    {
     "name": "stdout",
     "output_type": "stream",
     "text": [
      "(1, 30000)\n",
      "Series([], Name: Pokemon, dtype: object)\n"
     ]
    }
   ],
   "source": [
    "print (sample.shape)\n",
    "data_frame = pd.DataFrame ()\n",
    "data_frame [\"Pokemon\"] = \"Pikachu\"\n",
    "print (data_frame [\"Pokemon\"])"
   ]
  },
  {
   "cell_type": "code",
   "execution_count": 14,
   "metadata": {},
   "outputs": [
    {
     "data": {
      "text/plain": [
       "(0, 30001)"
      ]
     },
     "execution_count": 14,
     "metadata": {},
     "output_type": "execute_result"
    }
   ],
   "source": [
    "sample_data_frame = pd.DataFrame ()\n",
    "sample_data_frame.insert (0, \"Pokemon_Name\", None)\n",
    "for i in range (1, 100*100*3 + 1):\n",
    "    sample_data_frame.insert (i, \"Pixel\" + str (i), None)\n",
    "sample_data_frame.shape"
   ]
  },
  {
   "cell_type": "code",
   "execution_count": null,
   "metadata": {},
   "outputs": [],
   "source": [
    "for i in range (5):\n",
    "    for j in range (100*100*3):\n",
    "       \n",
    "        \n",
    "        row_value = image_data [i].reshape (1, 100*100*3)\n",
    "        sample_data_frame = sample_data_frame.append ({\"Pokemon_Name\" : pokemon_label [i]}, ignore_index = True)\n",
    "        sample_data_frame = sample_data_frame.append ({\"Pixel\" + str (j) : row_value[0][j]}, ignore_index = True)"
   ]
  },
  {
   "cell_type": "code",
   "execution_count": null,
   "metadata": {},
   "outputs": [],
   "source": [
    "sample_data_frame.shape\n",
    "\n",
    "sample_data_frame.to_csv (\"sample_data_frame.csv\")\n",
    "sample_data_frame.to_excel (\"sample_data_frame.xlsx\")\n",
    "\n",
    "FileLinks (\"/\")"
   ]
  },
  {
   "cell_type": "code",
   "execution_count": null,
   "metadata": {},
   "outputs": [],
   "source": [
    "plt.imshow (image_data [1]/255.0)"
   ]
  },
  {
   "cell_type": "code",
   "execution_count": null,
   "metadata": {},
   "outputs": [],
   "source": [
    "Image = cv2.imread (\"Images_test/1106.jpg\")\n",
    "Image = image.load_img (\"Images_test/1106.jpg\", target_size = (100, 100))\n",
    "print (Image.shape)"
   ]
  },
  {
   "cell_type": "code",
   "execution_count": null,
   "metadata": {},
   "outputs": [],
   "source": [
    "def dist (a1, a2):\n",
    "    return np.sum((a1 - a2)**2)**.5"
   ]
  },
  {
   "cell_type": "code",
   "execution_count": null,
   "metadata": {},
   "outputs": [],
   "source": [
    "def KNN (X, Y, test_point, k = 5):\n",
    "    \n",
    "    m = X.shape[0]\n",
    "    vals = []\n",
    "    \n",
    "    for i in range(m):\n",
    "        d = dist (X[i], test_point)\n",
    "        vals.append((d, Y[i]))\n",
    "        \n",
    "    vals = sorted (vals)\n",
    "    vals = np.array (vals[:k])\n",
    "    b = np.unique (vals[:, 1], return_counts = True)\n",
    "    idx = np.argmax (b[1])\n",
    "    \n",
    "    pred = b[0][idx]\n",
    "    \n",
    "    return pred"
   ]
  },
  {
   "cell_type": "code",
   "execution_count": null,
   "metadata": {},
   "outputs": [],
   "source": [
    "X = sample_data_frame [:, 0]\n",
    "Y = sample_data_frame [:, 1:]\n",
    "\n",
    "prediction = KNN (X, Y, test_image)\n",
    "\n",
    "print (prediction)"
   ]
  }
 ],
 "metadata": {
  "kernelspec": {
   "display_name": "Python 3",
   "language": "python",
   "name": "python3"
  },
  "language_info": {
   "codemirror_mode": {
    "name": "ipython",
    "version": 3
   },
   "file_extension": ".py",
   "mimetype": "text/x-python",
   "name": "python",
   "nbconvert_exporter": "python",
   "pygments_lexer": "ipython3",
   "version": "3.7.3"
  }
 },
 "nbformat": 4,
 "nbformat_minor": 2
}
